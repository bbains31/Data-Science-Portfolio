{
  "cells": [
    {
      "cell_type": "markdown",
      "metadata": {
        "colab_type": "text",
        "id": "view-in-github"
      },
      "source": [
        "<a href=\"https://colab.research.google.com/github/ds4ph-bme/homework-6-bbains31/blob/main/punk_tumor_adder.ipynb\" target=\"_parent\"><img src=\"https://colab.research.google.com/assets/colab-badge.svg\" alt=\"Open In Colab\"/></a>"
      ]
    },
    {
      "cell_type": "markdown",
      "metadata": {
        "id": "ZXWm-EgV67Pg"
      },
      "source": [
        "\n",
        "1. Generate the data as below\n",
        "2. Train a convolutional neural network to classify punks as diseased or not\n",
        "   1. Create training and validation sets.\n",
        "   2. Contrast in the sensitivity, specificity and accuracy in both sets."
      ]
    },
    {
      "cell_type": "code",
      "execution_count": 2,
      "metadata": {
        "id": "cv9HM_C4COJ-"
      },
      "outputs": [],
      "source": [
        "\n",
        "import urllib.request\n",
        "import PIL\n",
        "import matplotlib.pyplot as plt\n",
        "import numpy as np\n",
        "import tensorflow as tf\n",
        "from tensorflow.keras import layers, models, losses\n",
        "\n",
        "## Open the image\n",
        "imgURL = \"https://raw.githubusercontent.com/larvalabs/cryptopunks/master/punks.png\"\n",
        "urllib.request.urlretrieve(imgURL, \"cryptoPunksAll.jpg\")\n",
        "img = PIL.Image.open(\"cryptoPunksAll.jpg\").convert(\"RGB\")\n",
        "imgArray = np.asarray(img)\n",
        "\n",
        "n = 10000\n",
        "\n",
        "finalArray = np.empty((n, 24, 24, 3))\n",
        "for i in range(100):\n",
        "  for j in range(100):\n",
        "    a, b = 24 * i, 24 * (i + 1)\n",
        "    c, d = 24 * j, 24 * (j + 1)\n",
        "    idx = j + i * (100)\n",
        "    finalArray[idx,:,:,:] = imgArray[a:b,c:d,:]\n"
      ]
    },
    {
      "cell_type": "code",
      "execution_count": 3,
      "metadata": {
        "colab": {
          "base_uri": "https://localhost:8080/",
          "height": 447
        },
        "id": "6p1oknq57G6y",
        "outputId": "cf2292a0-7f58-4cfc-de90-7297a74a52f5"
      },
      "outputs": [
        {
          "data": {
            "text/plain": [
              "<matplotlib.image.AxesImage at 0x7bbd00620d30>"
            ]
          },
          "execution_count": 3,
          "metadata": {},
          "output_type": "execute_result"
        },
        {
          "data": {
            "image/png": "[encoded data removed]",
            "text/plain": [
              "<Figure size 640x480 with 1 Axes>"
            ]
          },
          "metadata": {},
          "output_type": "display_data"
        }
      ],
      "source": [
        "\n",
        "temp  =  finalArray[0,:,:,:].copy()\n",
        "\n",
        "d2min, d2max = 9,14\n",
        "d1min, d1max = 11,17\n",
        "\n",
        "temp[d1min : (d1max + 1), d2min : (d2max + 1)] = 255\n",
        "\n",
        "plt.imshow(temp.astype('uint8'))\n",
        "\n"
      ]
    },
    {
      "cell_type": "code",
      "execution_count": 4,
      "metadata": {
        "colab": {
          "base_uri": "https://localhost:8080/"
        },
        "id": "pmJXYveG_gbY",
        "outputId": "3fdc464c-e389-4d4b-979d-c087f3d4eca6"
      },
      "outputs": [
        {
          "name": "stderr",
          "output_type": "stream",
          "text": [
            "<>:7: SyntaxWarning: \"is\" with a literal. Did you mean \"==\"?\n",
            "<>:7: SyntaxWarning: \"is\" with a literal. Did you mean \"==\"?\n",
            "<ipython-input-4-d1184c60a117>:7: SyntaxWarning: \"is\" with a literal. Did you mean \"==\"?\n",
            "  if flip is 1:\n"
          ]
        }
      ],
      "source": [
        "cancerpunks = finalArray.copy()\n",
        "label = np.zeros(n)\n",
        "\n",
        "## Loop over the cryptopunks\n",
        "for i in range(10000):\n",
        "  flip = np.random.randint(0, 2)\n",
        "  if flip is 1:\n",
        "    label[i] = 1\n",
        "    d1loc = np.random.randint(d1min, d1max + 1)\n",
        "    d2loc = np.random.randint(d2min, d2max + 1)\n",
        "    cancerpunks[i,d1loc,d2loc,:] = 255\n",
        "\n"
      ]
    },
    {
      "cell_type": "code",
      "execution_count": 5,
      "metadata": {
        "colab": {
          "base_uri": "https://localhost:8080/",
          "height": 829
        },
        "id": "0Gvcr5tbAmvD",
        "outputId": "e1ffc363-fff3-46c5-9c6a-67a48775f631"
      },
      "outputs": [
        {
          "data": {
            "image/png": "[encoded data removed]",
            "text/plain": [
              "<Figure size 1000x1000 with 25 Axes>"
            ]
          },
          "metadata": {},
          "output_type": "display_data"
        }
      ],
      "source": [
        "## plot some examples\n",
        "plt.figure(figsize=(10,10))\n",
        "for i in range(25):\n",
        "  plt.subplot(5,5,i+1)\n",
        "  plt.xticks([])\n",
        "  plt.yticks([])\n",
        "  plt.imshow(cancerpunks[i,:,:,:].astype('uint8'))\n",
        "  plt.title(label[i])"
      ]
    },
    {
      "cell_type": "code",
      "execution_count": 7,
      "metadata": {
        "colab": {
          "base_uri": "https://localhost:8080/"
        },
        "id": "KK38JrJBzsos",
        "outputId": "c3b0a87a-4232-4171-ae54-262897af82e5"
      },
      "outputs": [
        {
          "name": "stderr",
          "output_type": "stream",
          "text": [
            "/usr/local/lib/python3.10/dist-packages/keras/src/layers/convolutional/base_conv.py:107: UserWarning: Do not pass an `input_shape`/`input_dim` argument to a layer. When using Sequential models, prefer using an `Input(shape)` object as the first layer in the model instead.\n",
            "  super().__init__(activity_regularizer=activity_regularizer, **kwargs)\n"
          ]
        },
        {
          "name": "stdout",
          "output_type": "stream",
          "text": [
            "Epoch 1/10\n",
            "\u001b[1m250/250\u001b[0m \u001b[32m━━━━━━━━━━━━━━━━━━━━\u001b[0m\u001b[37m\u001b[0m \u001b[1m12s\u001b[0m 39ms/step - accuracy: 0.5655 - loss: 0.6655 - val_accuracy: 0.9115 - val_loss: 0.2371\n",
            "Epoch 2/10\n",
            "\u001b[1m250/250\u001b[0m \u001b[32m━━━━━━━━━━━━━━━━━━━━\u001b[0m\u001b[37m\u001b[0m \u001b[1m6s\u001b[0m 24ms/step - accuracy: 0.9130 - loss: 0.2088 - val_accuracy: 0.9575 - val_loss: 0.1058\n",
            "Epoch 3/10\n",
            "\u001b[1m250/250\u001b[0m \u001b[32m━━━━━━━━━━━━━━━━━━━━\u001b[0m\u001b[37m\u001b[0m \u001b[1m7s\u001b[0m 29ms/step - accuracy: 0.9566 - loss: 0.0961 - val_accuracy: 0.9530 - val_loss: 0.1064\n",
            "Epoch 4/10\n",
            "\u001b[1m250/250\u001b[0m \u001b[32m━━━━━━━━━━━━━━━━━━━━\u001b[0m\u001b[37m\u001b[0m \u001b[1m6s\u001b[0m 23ms/step - accuracy: 0.9593 - loss: 0.0870 - val_accuracy: 0.9615 - val_loss: 0.0819\n",
            "Epoch 5/10\n",
            "\u001b[1m250/250\u001b[0m \u001b[32m━━━━━━━━━━━━━━━━━━━━\u001b[0m\u001b[37m\u001b[0m \u001b[1m10s\u001b[0m 22ms/step - accuracy: 0.9737 - loss: 0.0631 - val_accuracy: 0.9735 - val_loss: 0.0630\n",
            "Epoch 6/10\n",
            "\u001b[1m250/250\u001b[0m \u001b[32m━━━━━━━━━━━━━━━━━━━━\u001b[0m\u001b[37m\u001b[0m \u001b[1m10s\u001b[0m 22ms/step - accuracy: 0.9772 - loss: 0.0568 - val_accuracy: 0.9740 - val_loss: 0.0607\n",
            "Epoch 7/10\n",
            "\u001b[1m250/250\u001b[0m \u001b[32m━━━━━━━━━━━━━━━━━━━━\u001b[0m\u001b[37m\u001b[0m \u001b[1m7s\u001b[0m 28ms/step - accuracy: 0.9805 - loss: 0.0501 - val_accuracy: 0.9545 - val_loss: 0.1075\n",
            "Epoch 8/10\n",
            "\u001b[1m250/250\u001b[0m \u001b[32m━━━━━━━━━━━━━━━━━━━━\u001b[0m\u001b[37m\u001b[0m \u001b[1m6s\u001b[0m 23ms/step - accuracy: 0.9867 - loss: 0.0349 - val_accuracy: 0.9840 - val_loss: 0.0425\n",
            "Epoch 9/10\n",
            "\u001b[1m250/250\u001b[0m \u001b[32m━━━━━━━━━━━━━━━━━━━━\u001b[0m\u001b[37m\u001b[0m \u001b[1m12s\u001b[0m 29ms/step - accuracy: 0.9896 - loss: 0.0273 - val_accuracy: 0.9550 - val_loss: 0.1120\n",
            "Epoch 10/10\n",
            "\u001b[1m250/250\u001b[0m \u001b[32m━━━━━━━━━━━━━━━━━━━━\u001b[0m\u001b[37m\u001b[0m \u001b[1m10s\u001b[0m 29ms/step - accuracy: 0.9895 - loss: 0.0276 - val_accuracy: 0.9860 - val_loss: 0.0358\n",
            "\u001b[1m250/250\u001b[0m \u001b[32m━━━━━━━━━━━━━━━━━━━━\u001b[0m\u001b[37m\u001b[0m \u001b[1m2s\u001b[0m 7ms/step\n",
            "\u001b[1m63/63\u001b[0m \u001b[32m━━━━━━━━━━━━━━━━━━━━\u001b[0m\u001b[37m\u001b[0m \u001b[1m1s\u001b[0m 8ms/step\n",
            "Training Set Metrics:\n",
            "Sensitivity: 0.9972424166457758\n",
            "Specificity: 0.9892794814260782\n",
            "Accuracy: 0.99325\n",
            "\n",
            "Validation Set Metrics:\n",
            "Sensitivity: 0.9907407407407407\n",
            "Specificity: 0.9815175097276264\n",
            "Accuracy: 0.986\n"
          ]
        }
      ],
      "source": [
        "from sklearn.model_selection import train_test_split\n",
        "from sklearn.metrics import confusion_matrix\n",
        "\n",
        "# Split data into training and validation sets\n",
        "X_train, X_val, y_train, y_val = train_test_split(cancerpunks, label, test_size=0.2, random_state=42)\n",
        "\n",
        "# Normalize pixel values\n",
        "X_train = X_train.astype('float32') / 255.0 # Maximum pixel value is 255, min is 0\n",
        "X_val = X_val.astype('float32') / 255.0\n",
        "\n",
        "# Define the CNN model\n",
        "model = models.Sequential()\n",
        "model.add(layers.Conv2D(32, (3, 3), activation='relu', input_shape=(24, 24, 3))) # Relu to introduce non-linearity to the model, 32 filters for shallow layer\n",
        "model.add(layers.MaxPooling2D((2, 2)))\n",
        "model.add(layers.Conv2D(64, (3, 3), activation='relu')) # 64 filters for deeper layers, shape is not too complicated so not 128 or 256\n",
        "model.add(layers.MaxPooling2D((2, 2)))\n",
        "model.add(layers.Conv2D(64, (3, 3), activation='relu'))\n",
        "model.add(layers.Flatten()) # Flatten into 1D array for input into dense layer\n",
        "model.add(layers.Dense(64, activation='relu'))\n",
        "model.add(layers.Dense(1, activation='sigmoid')) # Sigmoid activation for binary classification task\n",
        "\n",
        "# Compile\n",
        "model.compile(optimizer='adam', loss='binary_crossentropy', metrics=['accuracy'])\n",
        "\n",
        "# Train\n",
        "history = model.fit(X_train, y_train, epochs=10, validation_data=(X_val, y_val))\n",
        "\n",
        "# Test\n",
        "y_pred_train = (model.predict(X_train) > 0.5).astype(\"int32\")\n",
        "y_pred_val = (model.predict(X_val) > 0.5).astype(\"int32\")\n",
        "\n",
        "\n",
        "def metrics(y_true, y_pred):\n",
        "  tn, fp, fn, tp = confusion_matrix(y_true, y_pred).ravel()\n",
        "  sensitivity = tp / (tp + fn)\n",
        "  specificity = tn / (tn + fp)\n",
        "  accuracy = (tp + tn) / (tp + tn + fp + fn)\n",
        "  return sensitivity, specificity, accuracy\n",
        "\n",
        "# Training metrics\n",
        "sens_train, spec_train, accu_train = metrics(y_train, y_pred_train)\n",
        "# testing metrics\n",
        "sens, spec, accu = metrics(y_val, y_pred_val)\n",
        "\n",
        "print(\"Training Set Metrics:\")\n",
        "print(\"Sensitivity:\", sens_train)\n",
        "print(\"Specificity:\", spec_train)\n",
        "print(\"Accuracy:\", accu_train)\n",
        "\n",
        "print(\"\\nValidation Set Metrics:\")\n",
        "print(\"Sensitivity:\", sens)\n",
        "print(\"Specificity:\", spec)\n",
        "print(\"Accuracy:\", accu)\n"
      ]
    }
  ],
  "metadata": {
    "colab": {
      "include_colab_link": true,
      "provenance": []
    },
    "kernelspec": {
      "display_name": "Python 3",
      "name": "python3"
    },
    "language_info": {
      "name": "python"
    }
  },
  "nbformat": 4,
  "nbformat_minor": 0
}
